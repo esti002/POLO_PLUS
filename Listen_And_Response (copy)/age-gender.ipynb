{
 "cells": [
  {
   "cell_type": "markdown",
   "metadata": {},
   "source": [
    "# Apparent age and gender prediction within OpenCV"
   ]
  },
  {
   "cell_type": "markdown",
   "metadata": {},
   "source": [
    "This notebook uses pre-trained age and gender model of the following study:\n",
    "\n",
    "[DEX: Deep EXpectation of apparent age from a single image](https://data.vision.ee.ethz.ch/cvl/rrothe/imdb-wiki/)"
   ]
  },
  {
   "cell_type": "code",
   "execution_count": 12,
   "metadata": {},
   "outputs": [],
   "source": [
    "import os\n",
    "import cv2\n",
    "import numpy as np\n",
    "import matplotlib.pyplot as plt"
   ]
  },
  {
   "cell_type": "markdown",
   "metadata": {},
   "source": [
    "## Haar cascade for face detection"
   ]
  },
  {
   "cell_type": "code",
   "execution_count": 13,
   "metadata": {},
   "outputs": [
    {
     "name": "stdout",
     "output_type": "stream",
     "text": [
      "haar cascade configuration found here:  /home/esti002/miniconda3/envs/tf/lib/python3.9/site-packages/cv2/data/haarcascade_frontalface_default.xml\n"
     ]
    }
   ],
   "source": [
    "opencv_home = cv2.__file__\n",
    "folders = opencv_home.split(os.path.sep)[0:-1]\n",
    "\n",
    "path = folders[0]\n",
    "for folder in folders[1:]:\n",
    "    path = path + \"/\" + folder\n",
    "\n",
    "face_detector_path = path+\"/data/haarcascade_frontalface_default.xml\"\n",
    "\n",
    "print(\"haar cascade configuration found here: \",face_detector_path)\n",
    "\n",
    "if os.path.isfile(face_detector_path) != True:\n",
    "    raise ValueError(\"Confirm that opencv is installed on your environment! Expected path \",face_detector_path,\" violated.\")\n",
    "\n",
    "haar_detector = cv2.CascadeClassifier(face_detector_path)"
   ]
  },
  {
   "cell_type": "code",
   "execution_count": 14,
   "metadata": {},
   "outputs": [],
   "source": [
    "def detect_faces(img):\n",
    "    gray = cv2.cvtColor(img, cv2.COLOR_BGR2GRAY)\n",
    "    faces = haar_detector.detectMultiScale(gray, 1.3, 5)\n",
    "    return faces"
   ]
  },
  {
   "cell_type": "markdown",
   "metadata": {},
   "source": [
    "## Load pre-trained age and gender models"
   ]
  },
  {
   "cell_type": "code",
   "execution_count": 15,
   "metadata": {},
   "outputs": [],
   "source": [
    "#model structure: https://data.vision.ee.ethz.ch/cvl/rrothe/imdb-wiki/static/age.prototxt\n",
    "#pre-trained weights: https://data.vision.ee.ethz.ch/cvl/rrothe/imdb-wiki/static/dex_chalearn_iccv2015.caffemodel\n",
    "age_model = cv2.dnn.readNetFromCaffe(\"/home/esti002/Codes/Python/Listen_And_Response/datasets/age.prototxt\", \"/home/esti002/Codes/Python/Listen_And_Response/datasets/dex_chalearn_iccv2015.caffemodel\")"
   ]
  },
  {
   "cell_type": "code",
   "execution_count": 16,
   "metadata": {},
   "outputs": [],
   "source": [
    "#model structure: https://data.vision.ee.ethz.ch/cvl/rrothe/imdb-wiki/static/gender.prototxt\n",
    "#pre-trained weights: https://data.vision.ee.ethz.ch/cvl/rrothe/imdb-wiki/static/gender.caffemodel\n",
    "gender_model = cv2.dnn.readNetFromCaffe(\"/home/esti002/Codes/Python/Listen_And_Response/datasets/gender.prototxt\", \"/home/esti002/Codes/Python/Listen_And_Response/datasets/gender.caffemodel\")"
   ]
  },
  {
   "cell_type": "code",
   "execution_count": 17,
   "metadata": {},
   "outputs": [],
   "source": [
    "output_indexes = np.array([i for i in range(0, 101)])\n",
    "\n",
    "def analysis():\n",
    "    # Kamera yakalama başlatılıyor\n",
    "    cap = cv2.VideoCapture(0)\n",
    "\n",
    "    # Yüz tespiti için kullanılacak sınıflandırıcıyı yükleme\n",
    "    face_cascade = cv2.CascadeClassifier(cv2.data.haarcascades + 'haarcascade_frontalface_default.xml')\n",
    "\n",
    "    while True:\n",
    "        # Kameradan bir frame yakalama\n",
    "        ret, frame = cap.read()\n",
    "        \n",
    "        # Frame'i gri tona dönüştürme\n",
    "        gray = cv2.cvtColor(frame, cv2.COLOR_BGR2GRAY)\n",
    "        \n",
    "        # Yüz tespiti\n",
    "        faces = face_cascade.detectMultiScale(gray, 1.3, 5)\n",
    "        \n",
    "        for (x, y, w, h) in faces:\n",
    "            detected_face = frame[y:y+h, x:x+w]\n",
    "            \n",
    "            # Yaş modeli için görüntüyü yeniden boyutlandırma\n",
    "            detected_face = cv2.resize(detected_face, (224, 224))\n",
    "            img_blob = cv2.dnn.blobFromImage(detected_face)  # Caffe modeli (1, 3, 224, 224) şeklinde giriş bekler\n",
    "            \n",
    "            # ---------------------------\n",
    "            # Yaş tahmini\n",
    "            age_model.setInput(img_blob)\n",
    "            age_dist = age_model.forward()[0]\n",
    "            apparent_predictions = round(np.sum(age_dist * output_indexes), 2)\n",
    "            print(\"Görünür yaş: \", apparent_predictions)\n",
    "            \n",
    "            # ---------------------------\n",
    "            # Cinsiyet tahmini\n",
    "            gender_model.setInput(img_blob)\n",
    "            gender_class = gender_model.forward()[0]\n",
    "            gender = 'Kadın' if np.argmax(gender_class) == 0 else 'Erkek'\n",
    "            print(\"Cinsiyet: \", gender)\n",
    "            \n",
    "            # ---------------------------\n",
    "            # Tespit edilen yüzü gösterme\n",
    "            cv2.rectangle(frame, (x, y), (x+w, y+h), (255, 0, 0), 2)\n",
    "            \n",
    "        # Görüntüyü ekranda gösterme\n",
    "        cv2.imshow('Face Analysis', frame)\n",
    "        \n",
    "        # Çıkış için 'q' tuşuna basma kontrolü\n",
    "        if cv2.waitKey(1) & 0xFF == ord('q'):\n",
    "            break\n",
    "    \n",
    "    # Kamera yakalamayı serbest bırakma\n",
    "    cap.release()\n",
    "    cv2.destroyAllWindows()\n",
    "        "
   ]
  },
  {
   "cell_type": "code",
   "execution_count": 18,
   "metadata": {
    "scrolled": false
   },
   "outputs": [
    {
     "name": "stdout",
     "output_type": "stream",
     "text": [
      "Görünür yaş:  22.85\n",
      "Cinsiyet:  Erkek\n",
      "Görünür yaş:  18.66\n",
      "Cinsiyet:  Erkek\n",
      "Görünür yaş:  20.17\n",
      "Cinsiyet:  Erkek\n",
      "Görünür yaş:  19.73\n",
      "Cinsiyet:  Erkek\n",
      "Görünür yaş:  18.43\n",
      "Cinsiyet:  Erkek\n",
      "Görünür yaş:  18.65\n",
      "Cinsiyet:  Erkek\n",
      "Görünür yaş:  20.03\n",
      "Cinsiyet:  Erkek\n",
      "Görünür yaş:  17.5\n",
      "Cinsiyet:  Erkek\n",
      "Görünür yaş:  17.24\n",
      "Cinsiyet:  Erkek\n"
     ]
    }
   ],
   "source": [
    "analysis()"
   ]
  },
  {
   "cell_type": "code",
   "execution_count": 19,
   "metadata": {},
   "outputs": [],
   "source": [
    "def deneme(name):\n",
    "    print(name)"
   ]
  }
 ],
 "metadata": {
  "kernelspec": {
   "display_name": "Python 3",
   "language": "python",
   "name": "python3"
  },
  "language_info": {
   "codemirror_mode": {
    "name": "ipython",
    "version": 3
   },
   "file_extension": ".py",
   "mimetype": "text/x-python",
   "name": "python",
   "nbconvert_exporter": "python",
   "pygments_lexer": "ipython3",
   "version": "3.9.17"
  }
 },
 "nbformat": 4,
 "nbformat_minor": 2
}
